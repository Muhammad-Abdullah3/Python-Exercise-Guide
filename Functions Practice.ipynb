{
 "cells": [
  {
   "cell_type": "code",
   "execution_count": 10,
   "metadata": {},
   "outputs": [
    {
     "name": "stdout",
     "output_type": "stream",
     "text": [
      "7081\n"
     ]
    }
   ],
   "source": [
    "def simple_calculator(op,num1,num2):\n",
    "\n",
    "    if op == '+':\n",
    "        result = num1+num2\n",
    "    elif op == '-':\n",
    "        result = num1-num2\n",
    "    elif op == '*':\n",
    "        result = num1*num2\n",
    "    elif op == '/':\n",
    "        result = num1/num2\n",
    "    else:\n",
    "        print(\"The operator is not valid\")\n",
    "    print(result)\n",
    "simple_calculator('*',97,73)"
   ]
  },
  {
   "cell_type": "code",
   "execution_count": 1,
   "metadata": {},
   "outputs": [],
   "source": [
    "def even_odd(a):\n",
    "    if a%2==0:\n",
    "        print(a,\"is even.\")\n",
    "    else:\n",
    "        print(a,\"is odd.\")"
   ]
  },
  {
   "cell_type": "code",
   "execution_count": 2,
   "metadata": {},
   "outputs": [
    {
     "name": "stdout",
     "output_type": "stream",
     "text": [
      "76 is even.\n"
     ]
    }
   ],
   "source": [
    "even_odd(76)"
   ]
  },
  {
   "cell_type": "code",
   "execution_count": 4,
   "metadata": {},
   "outputs": [
    {
     "name": "stdout",
     "output_type": "stream",
     "text": [
      "Factorial of 5 is: 120\n"
     ]
    }
   ],
   "source": [
    "def factorial(b):\n",
    "    inte = 1\n",
    "    fact = 1\n",
    "    if b==0:\n",
    "        fact = 1\n",
    "        print(fact)\n",
    "    else:\n",
    "        while inte<=b:\n",
    "            fact = fact*inte\n",
    "            inte +=1\n",
    "        print(f\"Factorial of {b} is:\",fact)\n",
    "factorial(5)"
   ]
  },
  {
   "cell_type": "code",
   "execution_count": 5,
   "metadata": {},
   "outputs": [
    {
     "name": "stdout",
     "output_type": "stream",
     "text": [
      "Factorial of 8 is: 40320\n"
     ]
    }
   ],
   "source": [
    "factorial(8)"
   ]
  },
  {
   "cell_type": "code",
   "execution_count": 7,
   "metadata": {},
   "outputs": [
    {
     "name": "stdout",
     "output_type": "stream",
     "text": [
      "Factorial of 89 is: 16507955160908461081216919262453619309839666236496541854913520707833171034378509739399912570787600662729080382999756800000000000000000000\n"
     ]
    }
   ],
   "source": [
    "factorial(89)"
   ]
  },
  {
   "cell_type": "code",
   "execution_count": 8,
   "metadata": {},
   "outputs": [],
   "source": [
    "def palindrom_checker():\n",
    "    string = str(input(\"Enter the string you want to check\"))\n",
    "    if string == string[::-1]:\n",
    "        print(\"This Sentence is a palindrome.\")\n",
    "    else:\n",
    "        print(\"This Sentence is not a palindrome.\")"
   ]
  },
  {
   "cell_type": "code",
   "execution_count": 11,
   "metadata": {},
   "outputs": [
    {
     "name": "stdout",
     "output_type": "stream",
     "text": [
      "This Sentence is a palindrome.\n"
     ]
    }
   ],
   "source": [
    "palindrom_checker()"
   ]
  },
  {
   "cell_type": "code",
   "execution_count": 10,
   "metadata": {},
   "outputs": [
    {
     "name": "stdout",
     "output_type": "stream",
     "text": [
      "This Sentence is a palindrome.\n"
     ]
    }
   ],
   "source": [
    "palindrom_checker()"
   ]
  },
  {
   "cell_type": "code",
   "execution_count": 20,
   "metadata": {},
   "outputs": [],
   "source": [
    "def list_man():\n",
    "    list1 = input(\"Enter your list\").split()\n",
    "    print(max(list1))\n",
    "    print(min(list1))\n",
    "    total = sum(list1)\n",
    "    ave = total/len(list1)\n",
    "    return(total,ave)"
   ]
  },
  {
   "cell_type": "code",
   "execution_count": 21,
   "metadata": {},
   "outputs": [
    {
     "name": "stdout",
     "output_type": "stream",
     "text": [
      "9867\n",
      "232\n"
     ]
    },
    {
     "ename": "TypeError",
     "evalue": "unsupported operand type(s) for +: 'int' and 'str'",
     "output_type": "error",
     "traceback": [
      "\u001b[1;31m---------------------------------------------------------------------------\u001b[0m",
      "\u001b[1;31mTypeError\u001b[0m                                 Traceback (most recent call last)",
      "Cell \u001b[1;32mIn[21], line 1\u001b[0m\n\u001b[1;32m----> 1\u001b[0m list_man()\n",
      "Cell \u001b[1;32mIn[20], line 5\u001b[0m, in \u001b[0;36mlist_man\u001b[1;34m()\u001b[0m\n\u001b[0;32m      3\u001b[0m \u001b[39mprint\u001b[39m(\u001b[39mmax\u001b[39m(list1))\n\u001b[0;32m      4\u001b[0m \u001b[39mprint\u001b[39m(\u001b[39mmin\u001b[39m(list1))\n\u001b[1;32m----> 5\u001b[0m total \u001b[39m=\u001b[39m \u001b[39msum\u001b[39;49m(list1)\n\u001b[0;32m      6\u001b[0m ave \u001b[39m=\u001b[39m total\u001b[39m/\u001b[39m\u001b[39mlen\u001b[39m(list1)\n\u001b[0;32m      7\u001b[0m \u001b[39mreturn\u001b[39;00m(total,ave)\n",
      "\u001b[1;31mTypeError\u001b[0m: unsupported operand type(s) for +: 'int' and 'str'"
     ]
    }
   ],
   "source": [
    "list_man()"
   ]
  },
  {
   "cell_type": "code",
   "execution_count": null,
   "metadata": {},
   "outputs": [],
   "source": []
  }
 ],
 "metadata": {
  "kernelspec": {
   "display_name": "Python 3",
   "language": "python",
   "name": "python3"
  },
  "language_info": {
   "codemirror_mode": {
    "name": "ipython",
    "version": 3
   },
   "file_extension": ".py",
   "mimetype": "text/x-python",
   "name": "python",
   "nbconvert_exporter": "python",
   "pygments_lexer": "ipython3",
   "version": "3.11.4"
  },
  "orig_nbformat": 4
 },
 "nbformat": 4,
 "nbformat_minor": 2
}
