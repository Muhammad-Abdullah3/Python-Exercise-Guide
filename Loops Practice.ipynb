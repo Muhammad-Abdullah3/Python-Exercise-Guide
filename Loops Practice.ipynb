{
 "cells": [
  {
   "cell_type": "code",
   "execution_count": 8,
   "metadata": {},
   "outputs": [
    {
     "name": "stdout",
     "output_type": "stream",
     "text": [
      "Found: apple at index: 3\n"
     ]
    }
   ],
   "source": [
    "String1 = \"An apple a day keeps the doctor away. Apples are delicious fruits.\"\n",
    "String1.lower()\n",
    "word = \"apple\"\n",
    "start_index = 0\n",
    "while start_index<len(String1):\n",
    "    index = String1.find(word, start_index)\n",
    "    if index == -1:\n",
    "        break\n",
    "    print(\"Found:\",word,\"at index:\",index)\n",
    "    start_index = index+len(word)"
   ]
  },
  {
   "cell_type": "code",
   "execution_count": null,
   "metadata": {},
   "outputs": [],
   "source": []
  },
  {
   "cell_type": "code",
   "execution_count": null,
   "metadata": {},
   "outputs": [],
   "source": []
  }
 ],
 "metadata": {
  "kernelspec": {
   "display_name": "Python 3",
   "language": "python",
   "name": "python3"
  },
  "language_info": {
   "codemirror_mode": {
    "name": "ipython",
    "version": 3
   },
   "file_extension": ".py",
   "mimetype": "text/x-python",
   "name": "python",
   "nbconvert_exporter": "python",
   "pygments_lexer": "ipython3",
   "version": "3.11.4"
  },
  "orig_nbformat": 4
 },
 "nbformat": 4,
 "nbformat_minor": 2
}
